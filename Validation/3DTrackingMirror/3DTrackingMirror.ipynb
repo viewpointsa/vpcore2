{
 "cells": [
  {
   "cell_type": "markdown",
   "metadata": {},
   "source": [
    "# VpCore2 3D analyse coordinate validation\n",
    "\n",
    "Generate video, and check analyze match with original generate coordinate."
   ]
  },
  {
   "cell_type": "markdown",
   "metadata": {},
   "source": [
    "We use Cartesian distance calculation:\n",
    "\\begin{align}\n",
    "d = \\sqrt{(x_2-x_1)^2+(y_2-y_1)^2+(z_2-z_1)^2} \\\\\n",
    "\\end{align}"
   ]
  },
  {
   "cell_type": "code",
   "execution_count": 279,
   "metadata": {
    "collapsed": false
   },
   "outputs": [],
   "source": [
    "import csv\n",
    "import codecs\n",
    "import numpy as np\n",
    "import xml.etree.ElementTree\n",
    "\n",
    "np.set_printoptions(precision=2)\n",
    "np.set_printoptions(suppress=True)"
   ]
  },
  {
   "cell_type": "markdown",
   "metadata": {},
   "source": [
    "## Load Video generate Coordinates"
   ]
  },
  {
   "cell_type": "code",
   "execution_count": 280,
   "metadata": {
    "collapsed": false
   },
   "outputs": [],
   "source": [
    "fname = \"data/3d_gen_avi.tsv\"\n",
    "coordinates = []\n",
    "with codecs.open(fname, mode='rb', encoding='utf-8') as file:\n",
    "    reader = csv.reader(file, delimiter='\\t')\n",
    "    headers = reader.next()\n",
    "    ix1, iy1, iy2 = ( headers.index('x1'), headers.index('y1'), headers.index('y2') )\n",
    "    for row in reader:        \n",
    "        coordinates.append( [float(row[ix1]),float(row[iy1]),float(row[iy2])] )\n",
    "ref_coordinates = np.array(coordinates)[1:] # Jump B-VOPs AVI"
   ]
  },
  {
   "cell_type": "markdown",
   "metadata": {},
   "source": [
    "## Load VpCore2 PHI File"
   ]
  },
  {
   "cell_type": "code",
   "execution_count": 281,
   "metadata": {
    "collapsed": false
   },
   "outputs": [],
   "source": [
    "filen = \"data/001.phi\"\n",
    "e = xml.etree.ElementTree.parse(filen).getroot()\n",
    "phi_data = []\n",
    "for elm in e.findall('Data'):\n",
    "    status,x,y,z = elm.get('algostatus'), float(elm.get('x')), float(elm.get('y')), float(elm.get('z'))\n",
    "    if status != 'errornoobject':\n",
    "        phi_data.append( [x,y,z] )\n",
    "phi_data = np.array(phi_data)"
   ]
  },
  {
   "cell_type": "markdown",
   "metadata": {},
   "source": [
    "## Difference from reference coordinate"
   ]
  },
  {
   "cell_type": "code",
   "execution_count": 282,
   "metadata": {
    "collapsed": false
   },
   "outputs": [
    {
     "name": "stdout",
     "output_type": "stream",
     "text": [
      "Difference from reference coordinate =  0.0\n"
     ]
    }
   ],
   "source": [
    "print \"Difference from reference coordinate = \", np.sum( phi_data - ref_coordinates )"
   ]
  },
  {
   "cell_type": "markdown",
   "metadata": {},
   "source": [
    "## Calculation Total Distance"
   ]
  },
  {
   "cell_type": "code",
   "execution_count": 283,
   "metadata": {
    "collapsed": false
   },
   "outputs": [
    {
     "name": "stdout",
     "output_type": "stream",
     "text": [
      "PHI total distance = 7535.578343\n"
     ]
    }
   ],
   "source": [
    "total_diff = np.sqrt( np.sum( np.diff(arr, axis=0)**2, axis=1 ) )\n",
    "total_distance = np.sum( total_diff )\n",
    "print(\"PHI total distance = %f\" % total_distance )"
   ]
  },
  {
   "cell_type": "markdown",
   "metadata": {},
   "source": [
    "## Distance from VpCore2 results file\n",
    "\n",
    "Two first values from are tag unitialize, that explain difference from PHI data."
   ]
  },
  {
   "cell_type": "code",
   "execution_count": 284,
   "metadata": {
    "collapsed": false,
    "scrolled": true
   },
   "outputs": [
    {
     "name": "stdout",
     "output_type": "stream",
     "text": [
      "Results total distance = 7488.684\n",
      "Diff = 46.8943426632 , Two first data = 46.8943662193\n"
     ]
    }
   ],
   "source": [
    "filen = \"data/001.phr\"\n",
    "e = xml.etree.ElementTree.parse(filen).getroot()\n",
    "sumdist = 0\n",
    "for elm in e.findall('*/Data'):\n",
    "    if elm.get('datatype') == 'Locomotion3D':\n",
    "        inadist,smldist,lardist = ( float(elm.get('inadist')), float(elm.get('smldist')), float(elm.get('lardist')) )\n",
    "        sumdist += inadist + smldist + lardist\n",
    "print \"Results total distance =\", sumdist\n",
    "print \"Diff =\", (total_distance-sumdist), \", Two first data =\", np.sum(total_diff[:2])"
   ]
  },
  {
   "cell_type": "markdown",
   "metadata": {},
   "source": [
    "## Check Replay RawData"
   ]
  },
  {
   "cell_type": "code",
   "execution_count": 285,
   "metadata": {
    "collapsed": false
   },
   "outputs": [
    {
     "name": "stdout",
     "output_type": "stream",
     "text": [
      "Difference from reference coordinate =  0.0\n"
     ]
    }
   ],
   "source": [
    "filen = \"Data/001Replay.phi\"\n",
    "e = xml.etree.ElementTree.parse(filen).getroot()\n",
    "phi_replay_data = []\n",
    "for elm in e.findall('Data'):\n",
    "    status,x,y,z = elm.get('algostatus'), float(elm.get('x')), float(elm.get('y')), float(elm.get('z'))\n",
    "    if status != 'errornoobject':\n",
    "        phi_replay_data.append( [x,y,z] )\n",
    "phi_replay_data = np.array(phi_replay_data)\n",
    "print \"Difference from reference coordinate = \", np.sum( phi_data - ref_coordinates )"
   ]
  },
  {
   "cell_type": "code",
   "execution_count": null,
   "metadata": {
    "collapsed": true
   },
   "outputs": [],
   "source": []
  }
 ],
 "metadata": {
  "kernelspec": {
   "display_name": "Python 2",
   "language": "python",
   "name": "python2"
  },
  "language_info": {
   "codemirror_mode": {
    "name": "ipython",
    "version": 2
   },
   "file_extension": ".py",
   "mimetype": "text/x-python",
   "name": "python",
   "nbconvert_exporter": "python",
   "pygments_lexer": "ipython2",
   "version": "2.7.6"
  }
 },
 "nbformat": 4,
 "nbformat_minor": 1
}
